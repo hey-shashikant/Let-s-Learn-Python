{
 "cells": [
  {
   "cell_type": "code",
   "execution_count": 4,
   "id": "8de19cd1",
   "metadata": {},
   "outputs": [
    {
     "name": "stdout",
     "output_type": "stream",
     "text": [
      "geeks for geeks\n",
      "Geeks for Geeks\n",
      "geeks for geeks\n"
     ]
    }
   ],
   "source": [
    "str = \"geeks for geeks\"\n",
    "print(str)\n",
    "print(str.replace(\"geeks\",\"Geeks\"))\n",
    "print(str)"
   ]
  },
  {
   "cell_type": "code",
   "execution_count": 5,
   "id": "f5b25314",
   "metadata": {},
   "outputs": [
    {
     "name": "stdout",
     "output_type": "stream",
     "text": [
      "Enter your name : Shashikant Solanki\n",
      "Shashikant Solanki\n"
     ]
    }
   ],
   "source": [
    "val = input(\"Enter your name : \")\n",
    "print(val)"
   ]
  },
  {
   "cell_type": "code",
   "execution_count": 6,
   "id": "7312a55f",
   "metadata": {},
   "outputs": [
    {
     "name": "stdout",
     "output_type": "stream",
     "text": [
      "Enter a two value : 1 2\n",
      "Number of boys :  1\n",
      "Number of girls :  2\n"
     ]
    }
   ],
   "source": [
    "x,y = input(\"Enter a two value : \").split()\n",
    "print(\"Number of boys : \",x)\n",
    "print(\"Number of girls : \",y)"
   ]
  },
  {
   "cell_type": "code",
   "execution_count": 7,
   "id": "eef22ccd",
   "metadata": {},
   "outputs": [
    {
     "name": "stdout",
     "output_type": "stream",
     "text": [
      "Enter a two value : 1 2 3\n",
      "Number of boys :  1\n",
      "Number of girls :  2\n",
      "Number of LGBT :  3\n"
     ]
    }
   ],
   "source": [
    "x,y,z = input(\"Enter three value : \").split()\n",
    "print(\"Number of boys : \",x)\n",
    "print(\"Number of girls : \",y)\n",
    "print(\"Number of LGBT : \",z)"
   ]
  },
  {
   "cell_type": "code",
   "execution_count": 9,
   "id": "0cb35448",
   "metadata": {
    "scrolled": true
   },
   "outputs": [
    {
     "name": "stdout",
     "output_type": "stream",
     "text": [
      "Enter a two value : 1 2\n",
      "Number of boys is 1 and Number of girls is 2\n"
     ]
    }
   ],
   "source": [
    "x,y = input(\"Enter a two value : \").split()\n",
    "print(\"Number of boys is {} and Number of girls is {}\".format(x,y))\n",
    "      "
   ]
  },
  {
   "cell_type": "code",
   "execution_count": 10,
   "id": "9f9b6c00",
   "metadata": {},
   "outputs": [
    {
     "name": "stdout",
     "output_type": "stream",
     "text": [
      "Enter numbers : 1 2 3 4 5 6 7 8\n",
      "[1, 2, 3, 4, 5, 6, 7, 8]\n"
     ]
    }
   ],
   "source": [
    "x = list(map(int,input(\"Enter numbers : \").split()))\n",
    "print(x)"
   ]
  },
  {
   "cell_type": "code",
   "execution_count": 11,
   "id": "53891b8c",
   "metadata": {},
   "outputs": [
    {
     "name": "stdout",
     "output_type": "stream",
     "text": [
      "Enter three values : 1 2 3\n",
      "1\n",
      "2\n",
      "3\n"
     ]
    }
   ],
   "source": [
    "x,y,z = [int(x) for x in input(\"Enter three values : \").split()]\n",
    "print(x)\n",
    "print(y)\n",
    "print(z)"
   ]
  },
  {
   "cell_type": "code",
   "execution_count": 12,
   "id": "8a5e066e",
   "metadata": {},
   "outputs": [
    {
     "name": "stdout",
     "output_type": "stream",
     "text": [
      "Enter multiple value: 1,2,3,4,5,6\n",
      "Number of list is:  [1, 2, 3, 4, 5, 6]\n"
     ]
    }
   ],
   "source": [
    "x = [int(x) for x in input(\"Enter multiple value: \").split(\",\")]\n",
    "print(\"Number of list is: \", x)"
   ]
  },
  {
   "cell_type": "code",
   "execution_count": 13,
   "id": "2fb962af",
   "metadata": {},
   "outputs": [
    {
     "name": "stdout",
     "output_type": "stream",
     "text": [
      "GeeksForGeeks is the best platform for DSA content\n",
      "GeeksForGeeks is the best platform for DSA content**Welcome to GFF\n"
     ]
    }
   ],
   "source": [
    "# This line will automatically add a new line before the\n",
    "# next print statement\n",
    "print (\"GeeksForGeeks is the best platform for DSA content\")\n",
    "\n",
    "# This print() function ends with \"**\" as set in the end argument.\n",
    "print (\"GeeksForGeeks is the best platform for DSA content\", end= \"**\")\n",
    "print(\"Welcome to GFF\")\n"
   ]
  },
  {
   "cell_type": "code",
   "execution_count": 14,
   "id": "03840dfb",
   "metadata": {},
   "outputs": [
    {
     "name": "stdout",
     "output_type": "stream",
     "text": [
      "3>>>2>>>1>>>Start\n"
     ]
    }
   ],
   "source": [
    "import time\n",
    "\n",
    "count_seconds = 3\n",
    "for i in reversed(range(count_seconds + 1)):\n",
    "\tif i > 0:\n",
    "\t\tprint(i, end='>>>')\n",
    "\t\ttime.sleep(1)\n",
    "\telse:\n",
    "\t\tprint('Start')\n"
   ]
  },
  {
   "cell_type": "code",
   "execution_count": 15,
   "id": "720c51a8",
   "metadata": {},
   "outputs": [
    {
     "name": "stdout",
     "output_type": "stream",
     "text": [
      "3>>>2>>>1>>>Start\n"
     ]
    }
   ],
   "source": [
    "import time\n",
    "\n",
    "count_seconds = 3\n",
    "for i in reversed(range(count_seconds + 1)):\n",
    "\tif i > 0:\n",
    "\t\tprint(i, end='>>>', flush = True)\n",
    "\t\ttime.sleep(1)\n",
    "\telse:\n",
    "\t\tprint('Start')\n"
   ]
  },
  {
   "cell_type": "code",
   "execution_count": 16,
   "id": "1b7aefe3",
   "metadata": {},
   "outputs": [
    {
     "name": "stdout",
     "output_type": "stream",
     "text": [
      "1 2 3 4 5 6\n"
     ]
    }
   ],
   "source": [
    "# Print without newline in Python 3.x without using for loop\n",
    "\n",
    "l=[1,2,3,4,5,6]\n",
    "\n",
    "# using * symbol prints the list\n",
    "# elements in a single line\n",
    "print(*l)\n",
    "\n",
    "#This code is contributed by anuragsingh1022\n"
   ]
  },
  {
   "cell_type": "code",
   "execution_count": 17,
   "id": "5d9d294d",
   "metadata": {},
   "outputs": [
    {
     "name": "stdout",
     "output_type": "stream",
     "text": [
      "24-09-2021\n"
     ]
    }
   ],
   "source": [
    "print('24','09','2021',sep = '-')"
   ]
  },
  {
   "cell_type": "code",
   "execution_count": 18,
   "id": "9566dfe3",
   "metadata": {},
   "outputs": [
    {
     "name": "stdout",
     "output_type": "stream",
     "text": [
      "shashikantsolanki042@gmail.com\n"
     ]
    }
   ],
   "source": [
    "print('shashikant','solanki','042',sep = '',end = '@')\n",
    "print('gmail.com')"
   ]
  },
  {
   "cell_type": "code",
   "execution_count": 19,
   "id": "6424d7ad",
   "metadata": {},
   "outputs": [],
   "source": [
    "#import the below module and see what happens\n",
    "import antigravity\n",
    "#NOTE - it wont work on online ide\n"
   ]
  },
  {
   "cell_type": "code",
   "execution_count": 24,
   "id": "1bd5e3ba",
   "metadata": {},
   "outputs": [
    {
     "name": "stdout",
     "output_type": "stream",
     "text": [
      "Geeks :  1, Portal :  5.33\n",
      "Total students : 240, Boys : 120\n",
      "031\n",
      " 3.561E+02\n"
     ]
    }
   ],
   "source": [
    "# Python program showing how to use\n",
    "# string modulo operator(%) to print\n",
    "# fancier output\n",
    "\n",
    "# print integer and float value\n",
    "print(\"Geeks : %2d, Portal : %5.2f\" % (1, 05.333))\n",
    "\n",
    "# print integer value\n",
    "print(\"Total students : %3d, Boys : %2d\" % (240, 120))\n",
    "\n",
    "# print octal value\n",
    "print(\"%1.3o\" % (25))\n",
    "\n",
    "# print exponential value\n",
    "print(\"%10.3E\" % (356.08977))\n"
   ]
  },
  {
   "cell_type": "code",
   "execution_count": 25,
   "id": "ce103886",
   "metadata": {},
   "outputs": [
    {
     "name": "stdout",
     "output_type": "stream",
     "text": [
      "Geeks :  1, Portal :  5.33\n",
      "Total students : 240, Boys : 120\n",
      "    031\n",
      " 3.561E+02\n"
     ]
    }
   ],
   "source": [
    "# Python program showing how to use\n",
    "# string modulo operator(%) to print\n",
    "# fancier output\n",
    "\n",
    "# print integer and float value\n",
    "print(\"Geeks : %2d, Portal : %5.2f\" % (1, 05.333))\n",
    "\n",
    "# print integer value\n",
    "print(\"Total students : %3d, Boys : %2d\" % (240, 120))\n",
    "\n",
    "# print octal value\n",
    "print(\"%7.3o\" % (25))\n",
    "\n",
    "# print exponential value\n",
    "print(\"%10.3E\" % (356.08977))\n"
   ]
  },
  {
   "cell_type": "code",
   "execution_count": 26,
   "id": "705fa0f4",
   "metadata": {},
   "outputs": [
    {
     "name": "stdout",
     "output_type": "stream",
     "text": [
      "I love Geeks for \"Geeks!\"\n",
      "Geeks and Portal\n",
      "Portal and Geeks\n",
      "I love Geeks for \"Geeks!\"\n",
      "Geeks and Portal\n"
     ]
    }
   ],
   "source": [
    "# Python program showing\n",
    "# use of format() method\n",
    "\n",
    "# using format() method\n",
    "print('I love {} for \"{}!\"'.format('Geeks', 'Geeks'))\n",
    "\n",
    "# using format() method and referring\n",
    "# a position of the object\n",
    "print('{0} and {1}'.format('Geeks', 'Portal'))\n",
    "\n",
    "print('{1} and {0}'.format('Geeks', 'Portal'))\n",
    "\n",
    "\n",
    "# the above formatting can also be done by using f-Strings\n",
    "# Although, this features work only with python 3.6 or above.\n",
    "\n",
    "print(f\"I love {'Geeks'} for \\\"{'Geeks'}!\\\"\")\n",
    "\n",
    "# using format() method and referring\n",
    "# a position of the object\n",
    "print(f\"{'Geeks'} and {'Portal'}\")\n"
   ]
  },
  {
   "cell_type": "code",
   "execution_count": 27,
   "id": "34b7e7ec",
   "metadata": {},
   "outputs": [
    {
     "name": "stdout",
     "output_type": "stream",
     "text": [
      "Number one portal is Geeks, For, and Geeks.\n",
      "Geeks :12, Portal :    0.55\n",
      "Second argument:  11, first one:   47.42\n",
      "Geeks:   453, Portal:    59.06\n"
     ]
    }
   ],
   "source": [
    "# Python program showing\n",
    "# a use of format() method\n",
    "\n",
    "# combining positional and keyword arguments\n",
    "print('Number one portal is {0}, {1}, and {other}.'\n",
    "\t.format('Geeks', 'For', other ='Geeks'))\n",
    "\n",
    "# using format() method with number\n",
    "print(\"Geeks :{0:2d}, Portal :{1:8.2f}\".\n",
    "\tformat(12, 00.546))\n",
    "\n",
    "# Changing positional argument\n",
    "print(\"Second argument: {1:3d}, first one: {0:7.2f}\".\n",
    "\tformat(47.42, 11))\n",
    "\n",
    "print(\"Geeks: {a:5d}, Portal: {p:8.2f}\".\n",
    "\tformat(a = 453, p = 59.058))\n"
   ]
  },
  {
   "cell_type": "code",
   "execution_count": 29,
   "id": "0a5b43ec",
   "metadata": {},
   "outputs": [
    {
     "name": "stdout",
     "output_type": "stream",
     "text": [
      "Center aligned string with fillchr: \n",
      "##########I love geeksforgeeks##########\n",
      "The left aligned string is : \n",
      "I love geeksforgeeks--------------------\n",
      "The right aligned string is : \n",
      "--------------------I love geeksforgeeks\n"
     ]
    }
   ],
   "source": [
    "# Python program to\n",
    "# format a output using\n",
    "# string() method\n",
    "\n",
    "cstr = \"I love geeksforgeeks\"\n",
    "\n",
    "# Printing the center aligned\n",
    "# string with fillchr\n",
    "print (\"Center aligned string with fillchr: \")\n",
    "print (cstr.center(40, '#'))\n",
    "\n",
    "# Printing the left aligned\n",
    "# string with \"-\" padding\n",
    "print (\"The left aligned string is : \")\n",
    "print (cstr.ljust(40, '-'))\n",
    "\n",
    "# Printing the right aligned string\n",
    "# with \"-\" padding\n",
    "print (\"The right aligned string is : \")\n",
    "print (cstr.rjust(40, '-'))\n"
   ]
  },
  {
   "cell_type": "code",
   "execution_count": null,
   "id": "e9a61509",
   "metadata": {},
   "outputs": [],
   "source": []
  }
 ],
 "metadata": {
  "kernelspec": {
   "display_name": "Python 3",
   "language": "python",
   "name": "python3"
  },
  "language_info": {
   "codemirror_mode": {
    "name": "ipython",
    "version": 3
   },
   "file_extension": ".py",
   "mimetype": "text/x-python",
   "name": "python",
   "nbconvert_exporter": "python",
   "pygments_lexer": "ipython3",
   "version": "3.8.8"
  }
 },
 "nbformat": 4,
 "nbformat_minor": 5
}
