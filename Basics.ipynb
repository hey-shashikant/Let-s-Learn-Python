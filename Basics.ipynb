{
 "cells": [
  {
   "cell_type": "code",
   "execution_count": 1,
   "id": "f2519bc3",
   "metadata": {},
   "outputs": [
    {
     "name": "stdout",
     "output_type": "stream",
     "text": [
      "Hello Shashikant\n"
     ]
    }
   ],
   "source": [
    "print(\"Hello Shashikant\")"
   ]
  },
  {
   "cell_type": "code",
   "execution_count": 2,
   "id": "f070ef61",
   "metadata": {},
   "outputs": [
    {
     "name": "stdout",
     "output_type": "stream",
     "text": [
      "3\n",
      "4.5\n",
      "shashikant\n"
     ]
    }
   ],
   "source": [
    "n1 = 3\n",
    "print(n1)\n",
    "n2 = 4.5\n",
    "print(n2)\n",
    "n3 = \"shashikant\"\n",
    "print(n3)"
   ]
  },
  {
   "cell_type": "code",
   "execution_count": 4,
   "id": "41f05441",
   "metadata": {},
   "outputs": [
    {
     "name": "stdout",
     "output_type": "stream",
     "text": [
      "[10, 20, 30, 'Hey']\n"
     ]
    }
   ],
   "source": [
    "nums = []\n",
    "nums.append(10)\n",
    "nums.append(20)\n",
    "nums.append(30)\n",
    "nums.append(\"Hey\")\n",
    "print(nums)"
   ]
  },
  {
   "cell_type": "code",
   "execution_count": 5,
   "id": "cc776724",
   "metadata": {},
   "outputs": [
    {
     "name": "stdout",
     "output_type": "stream",
     "text": [
      "Enter the name : Shashikant\n",
      "Hello  Shashikant\n"
     ]
    }
   ],
   "source": [
    "name = input(\"Enter the name : \")\n",
    "print(\"Hello \",name)"
   ]
  },
  {
   "cell_type": "code",
   "execution_count": 6,
   "id": "d3f7da63",
   "metadata": {},
   "outputs": [
    {
     "name": "stdout",
     "output_type": "stream",
     "text": [
      "Enter first number : 10\n",
      "Enter second number : 5\n",
      "Product is :  50\n"
     ]
    }
   ],
   "source": [
    "n1 = int(input(\"Enter first number : \"))\n",
    "n2 = int(input(\"Enter second number : \"))\n",
    "product = n1*n2\n",
    "print(\"Product is : \", product)"
   ]
  },
  {
   "cell_type": "code",
   "execution_count": 8,
   "id": "c65d8596",
   "metadata": {},
   "outputs": [
    {
     "name": "stdout",
     "output_type": "stream",
     "text": [
      "Enter number : 22\n",
      "Equal to 22\n"
     ]
    }
   ],
   "source": [
    "n1 = int(input(\"Enter number : \"))\n",
    "if(n1 < 18):\n",
    "    print(\"Less than 18\")\n",
    "elif(n1 == 22):\n",
    "    print(\"Equal to 22\")\n",
    "else:\n",
    "    print(\"Greater than 22\")"
   ]
  },
  {
   "cell_type": "code",
   "execution_count": 10,
   "id": "324bd57f",
   "metadata": {},
   "outputs": [
    {
     "name": "stdout",
     "output_type": "stream",
     "text": [
      "Enter first number : 10\n",
      "Enter second number : 20\n",
      "Sum is :  30\n"
     ]
    }
   ],
   "source": [
    "def solve():\n",
    "    n1 = int(input(\"Enter first number : \"))\n",
    "    n2 = int(input(\"Enter second number : \"))\n",
    "    return n1+n2\n",
    "\n",
    "if __name__ == \"__main__\":\n",
    "    print(\"Sum is : \",solve())\n",
    "    #solve()"
   ]
  },
  {
   "cell_type": "code",
   "execution_count": 11,
   "id": "28e1aa55",
   "metadata": {},
   "outputs": [
    {
     "name": "stdout",
     "output_type": "stream",
     "text": [
      "Shashikant\n",
      "Shashikant\n",
      "Shashikant\n",
      "Shashikant\n",
      "Shashikant\n",
      "Shashikant\n",
      "Shashikant\n",
      "Shashikant\n",
      "Shashikant\n"
     ]
    }
   ],
   "source": [
    "for i in range(1,10):\n",
    "    print(\"Shashikant\")"
   ]
  },
  {
   "cell_type": "code",
   "execution_count": 13,
   "id": "026fd40f",
   "metadata": {},
   "outputs": [
    {
     "name": "stdout",
     "output_type": "stream",
     "text": [
      "85.0\n"
     ]
    }
   ],
   "source": [
    "import math\n",
    "\n",
    "def solve():\n",
    "    n1 = -85\n",
    "    n1 = math.fabs(n1)\n",
    "    print(n1)\n",
    "    \n",
    "if __name__ == \"__main__\":\n",
    "    solve()"
   ]
  },
  {
   "cell_type": "code",
   "execution_count": 14,
   "id": "1d6b815a",
   "metadata": {},
   "outputs": [
    {
     "name": "stdout",
     "output_type": "stream",
     "text": [
      "Keywords are :  ['False', 'None', 'True', 'and', 'as', 'assert', 'async', 'await', 'break', 'class', 'continue', 'def', 'del', 'elif', 'else', 'except', 'finally', 'for', 'from', 'global', 'if', 'import', 'in', 'is', 'lambda', 'nonlocal', 'not', 'or', 'pass', 'raise', 'return', 'try', 'while', 'with', 'yield']\n"
     ]
    }
   ],
   "source": [
    "import keyword\n",
    "\n",
    "print(\"Keywords are : \",keyword.kwlist)"
   ]
  },
  {
   "cell_type": "code",
   "execution_count": 15,
   "id": "568df047",
   "metadata": {},
   "outputs": [
    {
     "name": "stdout",
     "output_type": "stream",
     "text": [
      "True\n",
      "True\n",
      "2\n",
      "0\n",
      "False\n",
      "False\n"
     ]
    }
   ],
   "source": [
    "print(False == 0)\n",
    "print(True == 1)\n",
    "\n",
    "print(False + True + True)\n",
    "print(False + False + False)\n",
    "\n",
    "print(None == 0)\n",
    "print(None == [])"
   ]
  },
  {
   "cell_type": "code",
   "execution_count": 16,
   "id": "9eb120af",
   "metadata": {},
   "outputs": [
    {
     "name": "stdout",
     "output_type": "stream",
     "text": [
      "10\n"
     ]
    }
   ],
   "source": [
    "#If x is false it's value is returned else y value is returned\n",
    "x = 3\n",
    "y = 10\n",
    "print(x and y)"
   ]
  },
  {
   "cell_type": "code",
   "execution_count": 17,
   "id": "0e9880a8",
   "metadata": {},
   "outputs": [
    {
     "name": "stdout",
     "output_type": "stream",
     "text": [
      "10\n"
     ]
    }
   ],
   "source": [
    "x = 10\n",
    "y = 3\n",
    "print(x or y)"
   ]
  },
  {
   "cell_type": "code",
   "execution_count": 18,
   "id": "8ef740e5",
   "metadata": {},
   "outputs": [
    {
     "name": "stdout",
     "output_type": "stream",
     "text": [
      "g e e k s f o r g e e k s "
     ]
    }
   ],
   "source": [
    "for i in \"geeksforgeeks\":\n",
    "    print(i,end = \" \")"
   ]
  },
  {
   "cell_type": "code",
   "execution_count": 25,
   "id": "f4671ff4",
   "metadata": {},
   "outputs": [
    {
     "name": "stdout",
     "output_type": "stream",
     "text": [
      "True\n"
     ]
    },
    {
     "name": "stderr",
     "output_type": "stream",
     "text": [
      "<>:1: SyntaxWarning: \"is\" with a literal. Did you mean \"==\"?\n",
      "<>:1: SyntaxWarning: \"is\" with a literal. Did you mean \"==\"?\n",
      "<ipython-input-25-1f5e485e23e5>:1: SyntaxWarning: \"is\" with a literal. Did you mean \"==\"?\n",
      "  print(' ' is ' ')\n"
     ]
    }
   ],
   "source": [
    "print(' ' is ' ')"
   ]
  },
  {
   "cell_type": "code",
   "execution_count": 22,
   "id": "9d9d1877",
   "metadata": {},
   "outputs": [
    {
     "name": "stdout",
     "output_type": "stream",
     "text": [
      "False\n"
     ]
    }
   ],
   "source": [
    "print({} is {})"
   ]
  },
  {
   "cell_type": "code",
   "execution_count": 26,
   "id": "5f69c8c7",
   "metadata": {},
   "outputs": [
    {
     "name": "stdout",
     "output_type": "stream",
     "text": [
      "0 1 2 3 4 5 6 7 "
     ]
    }
   ],
   "source": [
    "for i in range(10):\n",
    "    print(i, end =  \" \")\n",
    "    if i == 7:\n",
    "        break"
   ]
  },
  {
   "cell_type": "code",
   "execution_count": 27,
   "id": "326de5a8",
   "metadata": {},
   "outputs": [
    {
     "name": "stdout",
     "output_type": "stream",
     "text": [
      "0 1 2 3 4 5 6 8 9 "
     ]
    }
   ],
   "source": [
    "i = 0\n",
    "while i<10:\n",
    "    if i == 7:\n",
    "        i+=1\n",
    "        continue\n",
    "    else:\n",
    "        print(i, end = \" \")\n",
    "    i+=1\n",
    "    "
   ]
  },
  {
   "cell_type": "code",
   "execution_count": 29,
   "id": "5dd654f6",
   "metadata": {},
   "outputs": [
    {
     "name": "stdout",
     "output_type": "stream",
     "text": [
      "shashikant\n",
      "I'am  shashikant\n",
      "I'am  solanki\n"
     ]
    }
   ],
   "source": [
    "class Dog:\n",
    "    a1 = \"shashikant\"\n",
    "    a2 = \"solanki\"\n",
    "    \n",
    "    def solve(self):\n",
    "        print(\"I'am \", self.a1)\n",
    "        print(\"I'am \", self.a2)\n",
    "        \n",
    "sk = Dog()\n",
    "print(sk.a1)\n",
    "sk.solve()"
   ]
  },
  {
   "cell_type": "code",
   "execution_count": 33,
   "id": "8e9cac63",
   "metadata": {},
   "outputs": [
    {
     "name": "stdout",
     "output_type": "stream",
     "text": [
      "93326215443944152681699238856266700490715968264381621468592963895217599993229915608941463976156518286253697920827223758251185210916864000000000000000000000000\n"
     ]
    }
   ],
   "source": [
    "import math\n",
    "print(math.factorial(100))"
   ]
  },
  {
   "cell_type": "code",
   "execution_count": 35,
   "id": "0b4ef770",
   "metadata": {},
   "outputs": [
    {
     "name": "stdout",
     "output_type": "stream",
     "text": [
      "Choose any of the below option - \n",
      " 1. Addition \n",
      " 2. Substraction \n",
      " 3. Multiplication \n",
      " 4. Division\n",
      "Enter your choice : 4\n",
      "Enter first number : 10\n",
      "Enter second number : 5\n",
      "Division :  2.0\n"
     ]
    }
   ],
   "source": [
    "def addition(n1,n2):\n",
    "    return n1+n2\n",
    "\n",
    "def subtraction(n1,n2):\n",
    "    return n1-n2\n",
    "\n",
    "def multiplication(n1,n2):\n",
    "    return n1*n2\n",
    "\n",
    "def division(n1,n2):\n",
    "    return n1/n2\n",
    "\n",
    "print(\"Choose any of the below option - \\n 1. Addition \\n 2. Substraction \\n 3. Multiplication \\n 4. Division\")\n",
    "choice = int(input(\"Enter your choice : \"))\n",
    "n1 = int(input(\"Enter first number : \"))\n",
    "n2 = int(input(\"Enter second number : \"))\n",
    "if(choice == 1):\n",
    "    print(\"Addition : \",addition(n1,n2))\n",
    "elif(choice == 2):\n",
    "    print(\"Substraction : \",subtraction(n1,n2))\n",
    "elif(choice == 3):\n",
    "    print(\"Multiplication : \",multiplication(n1,n2))\n",
    "else:\n",
    "    print(\"Division : \",division(n1,n2))"
   ]
  },
  {
   "cell_type": "code",
   "execution_count": null,
   "id": "6bcd2fde",
   "metadata": {},
   "outputs": [],
   "source": []
  }
 ],
 "metadata": {
  "kernelspec": {
   "display_name": "Python 3",
   "language": "python",
   "name": "python3"
  },
  "language_info": {
   "codemirror_mode": {
    "name": "ipython",
    "version": 3
   },
   "file_extension": ".py",
   "mimetype": "text/x-python",
   "name": "python",
   "nbconvert_exporter": "python",
   "pygments_lexer": "ipython3",
   "version": "3.8.8"
  }
 },
 "nbformat": 4,
 "nbformat_minor": 5
}
